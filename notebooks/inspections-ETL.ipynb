{
 "cells": [
  {
   "cell_type": "markdown",
   "id": "a6d874f4-6bd3-4aa2-b667-7764d075af81",
   "metadata": {
    "jp-MarkdownHeadingCollapsed": true
   },
   "source": [
    "# 4 – Analysis of the Inspected Dataset (`inspection.csv`)\n",
    "\n",
    "## Table of Contents\n",
    "1. [Introduction](#introduction)\n",
    "2. [Setup and Data Loading](#setup-and-data-loading)\n",
    "3. [4a. Merging Data with Inspected (Strategy & Justification)](#4a-merge-inspection)\n",
    "   - [Pre-Merge Data Inspection](#pre-merge-inspection)\n",
    "   - [Chosen Strategy & Implementation](#chosen-strategy)\n",
    "4. [4b. Cleaning the “Inspection Outcome” Variable](#4b-clean-inspection-outcome)\n",
    "5. [4c. Calculating Average Number of Inspections per Elevator](#4c-average-inspections)\n",
    "6. [Conclusion](#conclusion)\n"
   ]
  },
  {
   "cell_type": "markdown",
   "id": "8fcd4d4a-149b-45d1-9faf-95debbaf85f3",
   "metadata": {
    "jp-MarkdownHeadingCollapsed": true
   },
   "source": [
    "<a id=\"introduction\"></a>\n",
    "## 1. Introduction\n",
    "\n",
    "In this fourth part of our ETL project, we focus on the **Inspection** dataset (`inspection.csv`). Our main goals include:\n",
    "\n",
    "1. **4a** – Merge the existing License+Installed dataset with the Inspection data, using a strategy that:\n",
    "   - Avoids memory issues (which can arise with very large merges).\n",
    "   - Handles potential many-to-many relationships (where multiple inspection rows might exist for a single elevator).\n",
    "2. **4b** – Clean the “Inspection Outcome” variable by grouping rare categories into “Other” **without** hard-coding specific values.\n",
    "3. **4c** – Calculate the **average number of inspections per elevator**.\n",
    "\n",
    "Completing these tasks further unifies the data, reveals how inspections are recorded, and sets the stage for deeper analysis of inspection frequency and outcomes over time.\n"
   ]
  },
  {
   "cell_type": "markdown",
   "id": "b6a6d162-061c-49bd-821f-be95f844310b",
   "metadata": {
    "jp-MarkdownHeadingCollapsed": true
   },
   "source": [
    "<a id=\"setup-and-data-loading\"></a>\n",
    "## 2. Setup and Data Loading\n"
   ]
  },
  {
   "cell_type": "code",
   "id": "8b62ef52-7491-452e-925c-bad6b455c36e",
   "metadata": {
    "jupyter": {
     "is_executing": true
    }
   },
   "source": [
    "import os\n",
    "import pandas as pd\n",
    "import numpy as np\n",
    "import matplotlib.pyplot as plt\n",
    "import seaborn as sns\n",
    "\n",
    "sns.set(style=\"whitegrid\")\n",
    "%matplotlib inline\n",
    "\n",
    "# Step 1: Check the current working directory\n",
    "print(\"Current working directory:\", os.getcwd())\n",
    "\n",
    "# Step 2: List available files\n",
    "print(\"Files in the current directory:\", os.listdir())\n",
    "\n",
    "# Step 3: Load the previously merged data from part 2 (License + Installed)\n",
    "# or part 3 if you prefer (License + Installed + Altered).\n",
    "try:\n",
    "    merged_installed_df = pd.read_csv('merged_installed_data.csv')\n",
    "    print(f\"Shape of merged_installed_df: {merged_installed_df.shape}\")\n",
    "except FileNotFoundError as e:\n",
    "    print(\"Error: 'merged_installed_data.csv' was not found.\")\n",
    "    raise e\n",
    "\n",
    "# Step 4: Load the Inspection data\n",
    "try:\n",
    "    inspection_df = pd.read_csv('inspection.csv')\n",
    "    print(f\"Shape of inspection_df: {inspection_df.shape}\")\n",
    "except FileNotFoundError as e:\n",
    "    print(\"Error: 'inspection.csv' was not found.\")\n",
    "    raise e\n",
    "\n",
    "# Quick check of columns\n",
    "print(\"\\nColumns in merged_installed_df:\", merged_installed_df.columns.tolist())\n",
    "print(\"Columns in inspection_df:\", inspection_df.columns.tolist())\n"
   ],
   "outputs": [],
   "execution_count": null
  },
  {
   "cell_type": "markdown",
   "id": "d803662b-a4e3-48db-a62b-0e617602e7e7",
   "metadata": {
    "jp-MarkdownHeadingCollapsed": true
   },
   "source": [
    "<a id=\"4a-merge-inspection\"></a>\n",
    "## 3. 4(a). Merging Data with Inspected (Strategy & Justification)\n",
    "\n",
    "**Requirement**:  \n",
    "“Develop a merging strategy to avoid memory issues and many-to-many relationships. Justify your choice and apply this strategy.”\n",
    "\n",
    "**Objective**:  \n",
    "- We have `merged_installed_df` (which can be large) and `inspection_df`, which may contain multiple inspection rows per elevator.  \n",
    "- We want to avoid duplicates or an overly large resulting dataset if both sides have repeated keys.\n"
   ]
  },
  {
   "cell_type": "markdown",
   "id": "deb5eee9-c721-4df8-b8a7-2761dde3a6e1",
   "metadata": {},
   "source": [
    "<a id=\"pre-merge-inspection\"></a>\n",
    "### Pre-Merge Data Inspection\n",
    "\n",
    "Before we finalize our merging strategy, we take a closer look at both DataFrames:"
   ]
  },
  {
   "cell_type": "code",
   "execution_count": 19,
   "id": "1f976627-b81f-4327-9204-aeac4b84f347",
   "metadata": {},
   "outputs": [
    {
     "name": "stdout",
     "output_type": "stream",
     "text": [
      "merged_installed_df shape: (43234, 28)\n",
      "inspection_df shape: (143181, 9)\n",
      "\n",
      "merged_installed_df columns & dtypes:\n",
      "ElevatingDevicesNumber            int64\n",
      "LocationoftheElevatingDevice     object\n",
      "ElevatingDevicesLicenseNumber    object\n",
      "LICENSESTATUS                    object\n",
      "LICENSEEXPIRYDATE                object\n",
      "LICENSEHOLDER                    object\n",
      "LICENSEHOLDERACCOUNTNUMBER       object\n",
      "LICENSEHOLDERADDRESS             object\n",
      "BILLINGCUSTOMER                  object\n",
      "BILLINGADDRESS                   object\n",
      "BILLINGACCOUNT                   object\n",
      "State_Province                   object\n",
      "Country                          object\n",
      "ExpiryMonth                      object\n",
      "Expiry_YearMonth                 object\n",
      "Owner Name                       object\n",
      "Owner Address                    object\n",
      "Owner Account Number             object\n",
      "Device Class                     object\n",
      "Device Type                      object\n",
      "DeviceStatus                     object\n",
      "Location of Device               object\n",
      "under review                     object\n",
      "City_from_License                object\n",
      "PostalCode_from_License          object\n",
      "City_from_Installed              object\n",
      "PostalCode_from_Installed        object\n",
      "DeviceType_Cleaned               object\n",
      "dtype: object\n",
      "\n",
      "inspection_df columns & dtypes:\n",
      "originatingservicerequestnumber    object\n",
      "InspectionCustomer                 object\n",
      "ElevatingDevicesNumber              int64\n",
      "InspectionNumber                    int64\n",
      "InspectionLocation                 object\n",
      "InspectionType                     object\n",
      "Earliest_INSPECTION_Date           object\n",
      "Latest_INSPECTION_Date             object\n",
      "InspectionOutcome                  object\n",
      "dtype: object\n",
      "\n",
      "merged_installed_df memory usage: 83.03 MB\n",
      "inspection_df memory usage: 74.24 MB\n",
      "No duplicates found in ElevatingDevicesNumber within merged_installed_df (good!).\n",
      "\n",
      "Distribution of how many times each elevator appears in inspection_df:\n"
     ]
    },
    {
     "data": {
      "text/plain": [
       "ElevatingDevicesNumber\n",
       "17489    24\n",
       "70320    23\n",
       "27449    22\n",
       "14841    21\n",
       "32113    21\n",
       "39660    20\n",
       "16268    20\n",
       "8306     20\n",
       "67401    20\n",
       "8328     19\n",
       "Name: count, dtype: int64"
      ]
     },
     "metadata": {},
     "output_type": "display_data"
    },
    {
     "name": "stdout",
     "output_type": "stream",
     "text": [
      "Max number of inspections for a single elevator: 24\n",
      "Average number of inspections per elevator: 3.50\n",
      "Number of elevators with multiple inspection rows: 33480\n"
     ]
    }
   ],
   "source": [
    "### Step 1: Check Shapes and Basic Info\n",
    "\n",
    "print(\"merged_installed_df shape:\", merged_installed_df.shape)\n",
    "print(\"inspection_df shape:\", inspection_df.shape)\n",
    "\n",
    "print(\"\\nmerged_installed_df columns & dtypes:\")\n",
    "print(merged_installed_df.dtypes)\n",
    "print(\"\\ninspection_df columns & dtypes:\")\n",
    "print(inspection_df.dtypes)\n",
    "\n",
    "mem_merged = merged_installed_df.memory_usage(deep=True).sum() / (1024**2)\n",
    "mem_inspect = inspection_df.memory_usage(deep=True).sum() / (1024**2)\n",
    "print(f\"\\nmerged_installed_df memory usage: {mem_merged:.2f} MB\")\n",
    "print(f\"inspection_df memory usage: {mem_inspect:.2f} MB\")\n",
    "\n",
    "key_col = 'ElevatingDevicesNumber'\n",
    "dup_merged = merged_installed_df[key_col].duplicated().sum()\n",
    "if dup_merged == 0:\n",
    "    print(f\"No duplicates found in {key_col} within merged_installed_df (good!).\")\n",
    "else:\n",
    "    print(f\"WARNING: Found {dup_merged} duplicate keys in merged_installed_df for {key_col}.\")\n",
    "\n",
    "inspection_key_counts = inspection_df[key_col].value_counts(dropna=False)\n",
    "print(\"\\nDistribution of how many times each elevator appears in inspection_df:\")\n",
    "display(inspection_key_counts.head(10))\n",
    "print(f\"Max number of inspections for a single elevator: {inspection_key_counts.max()}\")\n",
    "print(f\"Average number of inspections per elevator: {inspection_key_counts.mean():.2f}\")\n",
    "print(f\"Number of elevators with multiple inspection rows: {(inspection_key_counts > 1).sum()}\")\n"
   ]
  },
  {
   "cell_type": "markdown",
   "id": "a4c9eff7-39c3-4f0b-af02-69a7ae61f282",
   "metadata": {},
   "source": [
    "From these checks, we can confirm:\n",
    "\n",
    "1. **One row per elevator** in `merged_installed_df` (no duplicates).\n",
    "2. `inspection_df` can have **multiple** inspection rows for the same elevator, up to a max of ~24 in our sample.\n",
    "3. The final dataset size is manageable (~83 MB + 74 MB), and memory usage is not prohibitive for a direct merge in our environment.\n",
    "\n",
    "Therefore, we have a **one-to-many** scenario, which we will handle with a **left** join on `ElevatingDevicesNumber`.\n"
   ]
  },
  {
   "cell_type": "markdown",
   "id": "c981fc76-232d-4e59-b2f2-1741f23aa91a",
   "metadata": {},
   "source": [
    "<a id=\"chosen-strategy\"></a>\n",
    "### Chosen Strategy & Implementation\n"
   ]
  },
  {
   "cell_type": "code",
   "execution_count": 21,
   "id": "b8c6dd44-8524-4df7-aa89-84979fb90a3b",
   "metadata": {},
   "outputs": [
    {
     "name": "stdout",
     "output_type": "stream",
     "text": [
      "Number of rows in merged_installed_df: 43234\n",
      "Number of rows in inspection_df: 143181\n",
      "Number of rows in merged_inspection_df (left join): 143380\n"
     ]
    },
    {
     "data": {
      "text/html": [
       "<div>\n",
       "<style scoped>\n",
       "    .dataframe tbody tr th:only-of-type {\n",
       "        vertical-align: middle;\n",
       "    }\n",
       "\n",
       "    .dataframe tbody tr th {\n",
       "        vertical-align: top;\n",
       "    }\n",
       "\n",
       "    .dataframe thead th {\n",
       "        text-align: right;\n",
       "    }\n",
       "</style>\n",
       "<table border=\"1\" class=\"dataframe\">\n",
       "  <thead>\n",
       "    <tr style=\"text-align: right;\">\n",
       "      <th></th>\n",
       "      <th>ElevatingDevicesNumber</th>\n",
       "      <th>LocationoftheElevatingDevice</th>\n",
       "      <th>ElevatingDevicesLicenseNumber</th>\n",
       "      <th>LICENSESTATUS</th>\n",
       "      <th>LICENSEEXPIRYDATE</th>\n",
       "      <th>LICENSEHOLDER</th>\n",
       "      <th>LICENSEHOLDERACCOUNTNUMBER</th>\n",
       "      <th>LICENSEHOLDERADDRESS</th>\n",
       "      <th>BILLINGCUSTOMER</th>\n",
       "      <th>BILLINGADDRESS</th>\n",
       "      <th>...</th>\n",
       "      <th>PostalCode_from_Installed</th>\n",
       "      <th>DeviceType_Cleaned</th>\n",
       "      <th>originatingservicerequestnumber</th>\n",
       "      <th>InspectionCustomer</th>\n",
       "      <th>InspectionNumber</th>\n",
       "      <th>InspectionLocation</th>\n",
       "      <th>InspectionType</th>\n",
       "      <th>Earliest_INSPECTION_Date</th>\n",
       "      <th>Latest_INSPECTION_Date</th>\n",
       "      <th>InspectionOutcome</th>\n",
       "    </tr>\n",
       "  </thead>\n",
       "  <tbody>\n",
       "    <tr>\n",
       "      <th>0</th>\n",
       "      <td>10</td>\n",
       "      <td>111 WELLESLEY ST W  TORONTO M7A 1A2 ON CA</td>\n",
       "      <td>EDLIC-000010</td>\n",
       "      <td>ACTIVE</td>\n",
       "      <td>2017-04-28</td>\n",
       "      <td>LEGISLATIVE ASSEMBLY OF ONTARIO ATTN:  JOHN ED...</td>\n",
       "      <td>data redacted</td>\n",
       "      <td>99 WELLESLEY ST W WHITNEY BLOCK  ROOM 2540 TOR...</td>\n",
       "      <td>LEGISLATIVE ASSEMBLY OF ONTARIO ATTN:  JOHN ED...</td>\n",
       "      <td>99 WELLESLEY ST W WHITNEY BLOCK  ROOM 2540 TOR...</td>\n",
       "      <td>...</td>\n",
       "      <td>M7A 1A2</td>\n",
       "      <td>Passenger Elevator</td>\n",
       "      <td>834780</td>\n",
       "      <td>LEGISLATIVE ASSEMBLY OF ONTARIO ATTN:  JOHN ED...</td>\n",
       "      <td>4184747.0</td>\n",
       "      <td>111 WELLESLEY ST W  TORONTO M7A 1A2 ON CA</td>\n",
       "      <td>ED-Followup Inspection</td>\n",
       "      <td>1/10/2013</td>\n",
       "      <td>1/10/2013</td>\n",
       "      <td>Passed</td>\n",
       "    </tr>\n",
       "    <tr>\n",
       "      <th>1</th>\n",
       "      <td>10</td>\n",
       "      <td>111 WELLESLEY ST W  TORONTO M7A 1A2 ON CA</td>\n",
       "      <td>EDLIC-000010</td>\n",
       "      <td>ACTIVE</td>\n",
       "      <td>2017-04-28</td>\n",
       "      <td>LEGISLATIVE ASSEMBLY OF ONTARIO ATTN:  JOHN ED...</td>\n",
       "      <td>data redacted</td>\n",
       "      <td>99 WELLESLEY ST W WHITNEY BLOCK  ROOM 2540 TOR...</td>\n",
       "      <td>LEGISLATIVE ASSEMBLY OF ONTARIO ATTN:  JOHN ED...</td>\n",
       "      <td>99 WELLESLEY ST W WHITNEY BLOCK  ROOM 2540 TOR...</td>\n",
       "      <td>...</td>\n",
       "      <td>M7A 1A2</td>\n",
       "      <td>Passenger Elevator</td>\n",
       "      <td>1516252</td>\n",
       "      <td>LEGISLATIVE ASSEMBLY OF ONTARIO ATTN:  JOHN ED...</td>\n",
       "      <td>5248292.0</td>\n",
       "      <td>111 WELLESLEY ST W  TORONTO M7A 1A2 ON CA</td>\n",
       "      <td>ED-Periodic Inspection</td>\n",
       "      <td>1/22/2015</td>\n",
       "      <td>1/22/2015</td>\n",
       "      <td>Complete</td>\n",
       "    </tr>\n",
       "    <tr>\n",
       "      <th>2</th>\n",
       "      <td>10</td>\n",
       "      <td>111 WELLESLEY ST W  TORONTO M7A 1A2 ON CA</td>\n",
       "      <td>EDLIC-000010</td>\n",
       "      <td>ACTIVE</td>\n",
       "      <td>2017-04-28</td>\n",
       "      <td>LEGISLATIVE ASSEMBLY OF ONTARIO ATTN:  JOHN ED...</td>\n",
       "      <td>data redacted</td>\n",
       "      <td>99 WELLESLEY ST W WHITNEY BLOCK  ROOM 2540 TOR...</td>\n",
       "      <td>LEGISLATIVE ASSEMBLY OF ONTARIO ATTN:  JOHN ED...</td>\n",
       "      <td>99 WELLESLEY ST W WHITNEY BLOCK  ROOM 2540 TOR...</td>\n",
       "      <td>...</td>\n",
       "      <td>M7A 1A2</td>\n",
       "      <td>Passenger Elevator</td>\n",
       "      <td>1545612</td>\n",
       "      <td>LEGISLATIVE ASSEMBLY OF ONTARIO ATTN:  JOHN ED...</td>\n",
       "      <td>5312245.0</td>\n",
       "      <td>111 WELLESLEY ST W  TORONTO M7A 1A2 ON CA</td>\n",
       "      <td>ED-Major Alteration Inspection</td>\n",
       "      <td>1/22/2015</td>\n",
       "      <td>1/22/2015</td>\n",
       "      <td>Follow up Major</td>\n",
       "    </tr>\n",
       "    <tr>\n",
       "      <th>3</th>\n",
       "      <td>10</td>\n",
       "      <td>111 WELLESLEY ST W  TORONTO M7A 1A2 ON CA</td>\n",
       "      <td>EDLIC-000010</td>\n",
       "      <td>ACTIVE</td>\n",
       "      <td>2017-04-28</td>\n",
       "      <td>LEGISLATIVE ASSEMBLY OF ONTARIO ATTN:  JOHN ED...</td>\n",
       "      <td>data redacted</td>\n",
       "      <td>99 WELLESLEY ST W WHITNEY BLOCK  ROOM 2540 TOR...</td>\n",
       "      <td>LEGISLATIVE ASSEMBLY OF ONTARIO ATTN:  JOHN ED...</td>\n",
       "      <td>99 WELLESLEY ST W WHITNEY BLOCK  ROOM 2540 TOR...</td>\n",
       "      <td>...</td>\n",
       "      <td>M7A 1A2</td>\n",
       "      <td>Passenger Elevator</td>\n",
       "      <td>834780</td>\n",
       "      <td>LEGISLATIVE ASSEMBLY OF ONTARIO ATTN:  JOHN ED...</td>\n",
       "      <td>3930613.0</td>\n",
       "      <td>111 WELLESLEY ST W  TORONTO M7A 1A2 ON CA</td>\n",
       "      <td>ED-Minor A Inspection</td>\n",
       "      <td>10/11/2012</td>\n",
       "      <td>10/11/2012</td>\n",
       "      <td>Follow up</td>\n",
       "    </tr>\n",
       "    <tr>\n",
       "      <th>4</th>\n",
       "      <td>10</td>\n",
       "      <td>111 WELLESLEY ST W  TORONTO M7A 1A2 ON CA</td>\n",
       "      <td>EDLIC-000010</td>\n",
       "      <td>ACTIVE</td>\n",
       "      <td>2017-04-28</td>\n",
       "      <td>LEGISLATIVE ASSEMBLY OF ONTARIO ATTN:  JOHN ED...</td>\n",
       "      <td>data redacted</td>\n",
       "      <td>99 WELLESLEY ST W WHITNEY BLOCK  ROOM 2540 TOR...</td>\n",
       "      <td>LEGISLATIVE ASSEMBLY OF ONTARIO ATTN:  JOHN ED...</td>\n",
       "      <td>99 WELLESLEY ST W WHITNEY BLOCK  ROOM 2540 TOR...</td>\n",
       "      <td>...</td>\n",
       "      <td>M7A 1A2</td>\n",
       "      <td>Passenger Elevator</td>\n",
       "      <td>834780</td>\n",
       "      <td>LEGISLATIVE ASSEMBLY OF ONTARIO ATTN:  JOHN ED...</td>\n",
       "      <td>4076085.0</td>\n",
       "      <td>111 WELLESLEY ST W  TORONTO M7A 1A2 ON CA</td>\n",
       "      <td>ED-Followup Inspection</td>\n",
       "      <td>11/21/2012</td>\n",
       "      <td>11/21/2012</td>\n",
       "      <td>Follow up</td>\n",
       "    </tr>\n",
       "  </tbody>\n",
       "</table>\n",
       "<p>5 rows × 36 columns</p>\n",
       "</div>"
      ],
      "text/plain": [
       "   ElevatingDevicesNumber               LocationoftheElevatingDevice  \\\n",
       "0                      10  111 WELLESLEY ST W  TORONTO M7A 1A2 ON CA   \n",
       "1                      10  111 WELLESLEY ST W  TORONTO M7A 1A2 ON CA   \n",
       "2                      10  111 WELLESLEY ST W  TORONTO M7A 1A2 ON CA   \n",
       "3                      10  111 WELLESLEY ST W  TORONTO M7A 1A2 ON CA   \n",
       "4                      10  111 WELLESLEY ST W  TORONTO M7A 1A2 ON CA   \n",
       "\n",
       "  ElevatingDevicesLicenseNumber LICENSESTATUS LICENSEEXPIRYDATE  \\\n",
       "0                  EDLIC-000010        ACTIVE        2017-04-28   \n",
       "1                  EDLIC-000010        ACTIVE        2017-04-28   \n",
       "2                  EDLIC-000010        ACTIVE        2017-04-28   \n",
       "3                  EDLIC-000010        ACTIVE        2017-04-28   \n",
       "4                  EDLIC-000010        ACTIVE        2017-04-28   \n",
       "\n",
       "                                       LICENSEHOLDER  \\\n",
       "0  LEGISLATIVE ASSEMBLY OF ONTARIO ATTN:  JOHN ED...   \n",
       "1  LEGISLATIVE ASSEMBLY OF ONTARIO ATTN:  JOHN ED...   \n",
       "2  LEGISLATIVE ASSEMBLY OF ONTARIO ATTN:  JOHN ED...   \n",
       "3  LEGISLATIVE ASSEMBLY OF ONTARIO ATTN:  JOHN ED...   \n",
       "4  LEGISLATIVE ASSEMBLY OF ONTARIO ATTN:  JOHN ED...   \n",
       "\n",
       "  LICENSEHOLDERACCOUNTNUMBER  \\\n",
       "0              data redacted   \n",
       "1              data redacted   \n",
       "2              data redacted   \n",
       "3              data redacted   \n",
       "4              data redacted   \n",
       "\n",
       "                                LICENSEHOLDERADDRESS  \\\n",
       "0  99 WELLESLEY ST W WHITNEY BLOCK  ROOM 2540 TOR...   \n",
       "1  99 WELLESLEY ST W WHITNEY BLOCK  ROOM 2540 TOR...   \n",
       "2  99 WELLESLEY ST W WHITNEY BLOCK  ROOM 2540 TOR...   \n",
       "3  99 WELLESLEY ST W WHITNEY BLOCK  ROOM 2540 TOR...   \n",
       "4  99 WELLESLEY ST W WHITNEY BLOCK  ROOM 2540 TOR...   \n",
       "\n",
       "                                     BILLINGCUSTOMER  \\\n",
       "0  LEGISLATIVE ASSEMBLY OF ONTARIO ATTN:  JOHN ED...   \n",
       "1  LEGISLATIVE ASSEMBLY OF ONTARIO ATTN:  JOHN ED...   \n",
       "2  LEGISLATIVE ASSEMBLY OF ONTARIO ATTN:  JOHN ED...   \n",
       "3  LEGISLATIVE ASSEMBLY OF ONTARIO ATTN:  JOHN ED...   \n",
       "4  LEGISLATIVE ASSEMBLY OF ONTARIO ATTN:  JOHN ED...   \n",
       "\n",
       "                                      BILLINGADDRESS  ...  \\\n",
       "0  99 WELLESLEY ST W WHITNEY BLOCK  ROOM 2540 TOR...  ...   \n",
       "1  99 WELLESLEY ST W WHITNEY BLOCK  ROOM 2540 TOR...  ...   \n",
       "2  99 WELLESLEY ST W WHITNEY BLOCK  ROOM 2540 TOR...  ...   \n",
       "3  99 WELLESLEY ST W WHITNEY BLOCK  ROOM 2540 TOR...  ...   \n",
       "4  99 WELLESLEY ST W WHITNEY BLOCK  ROOM 2540 TOR...  ...   \n",
       "\n",
       "  PostalCode_from_Installed  DeviceType_Cleaned  \\\n",
       "0                   M7A 1A2  Passenger Elevator   \n",
       "1                   M7A 1A2  Passenger Elevator   \n",
       "2                   M7A 1A2  Passenger Elevator   \n",
       "3                   M7A 1A2  Passenger Elevator   \n",
       "4                   M7A 1A2  Passenger Elevator   \n",
       "\n",
       "  originatingservicerequestnumber  \\\n",
       "0                          834780   \n",
       "1                         1516252   \n",
       "2                         1545612   \n",
       "3                          834780   \n",
       "4                          834780   \n",
       "\n",
       "                                  InspectionCustomer InspectionNumber  \\\n",
       "0  LEGISLATIVE ASSEMBLY OF ONTARIO ATTN:  JOHN ED...        4184747.0   \n",
       "1  LEGISLATIVE ASSEMBLY OF ONTARIO ATTN:  JOHN ED...        5248292.0   \n",
       "2  LEGISLATIVE ASSEMBLY OF ONTARIO ATTN:  JOHN ED...        5312245.0   \n",
       "3  LEGISLATIVE ASSEMBLY OF ONTARIO ATTN:  JOHN ED...        3930613.0   \n",
       "4  LEGISLATIVE ASSEMBLY OF ONTARIO ATTN:  JOHN ED...        4076085.0   \n",
       "\n",
       "                          InspectionLocation                  InspectionType  \\\n",
       "0  111 WELLESLEY ST W  TORONTO M7A 1A2 ON CA          ED-Followup Inspection   \n",
       "1  111 WELLESLEY ST W  TORONTO M7A 1A2 ON CA          ED-Periodic Inspection   \n",
       "2  111 WELLESLEY ST W  TORONTO M7A 1A2 ON CA  ED-Major Alteration Inspection   \n",
       "3  111 WELLESLEY ST W  TORONTO M7A 1A2 ON CA           ED-Minor A Inspection   \n",
       "4  111 WELLESLEY ST W  TORONTO M7A 1A2 ON CA          ED-Followup Inspection   \n",
       "\n",
       "  Earliest_INSPECTION_Date Latest_INSPECTION_Date InspectionOutcome  \n",
       "0                1/10/2013              1/10/2013            Passed  \n",
       "1                1/22/2015              1/22/2015          Complete  \n",
       "2                1/22/2015              1/22/2015   Follow up Major  \n",
       "3               10/11/2012             10/11/2012         Follow up  \n",
       "4               11/21/2012             11/21/2012         Follow up  \n",
       "\n",
       "[5 rows x 36 columns]"
      ]
     },
     "metadata": {},
     "output_type": "display_data"
    }
   ],
   "source": [
    "# === 4(a) STEP 1: Rename columns if needed\n",
    "# e.g. inspection_df.rename(columns={'Elevating Devices Number': 'ElevatingDevicesNumber'}, inplace=True)\n",
    "\n",
    "key_col = 'ElevatingDevicesNumber'\n",
    "\n",
    "# === 4(a) STEP 2: Perform the Left Join ===\n",
    "merged_inspection_df = pd.merge(\n",
    "    merged_installed_df,\n",
    "    inspection_df,\n",
    "    on=key_col,\n",
    "    how='left'\n",
    ")\n",
    "\n",
    "print(\"Number of rows in merged_installed_df:\", len(merged_installed_df))\n",
    "print(\"Number of rows in inspection_df:\", len(inspection_df))\n",
    "print(\"Number of rows in merged_inspection_df (left join):\", len(merged_inspection_df))\n",
    "\n",
    "display(merged_inspection_df.head(5))\n",
    "\n",
    "# Discussion:\n",
    "# - Each elevator from merged_installed_df remains, even if no inspection records.\n",
    "# - Elevators with multiple inspections will appear multiple times.\n",
    "# - Memory usage is feasible.\n"
   ]
  },
  {
   "cell_type": "markdown",
   "id": "bb6b6a9a-1167-45b4-96f5-57c1da8b9cca",
   "metadata": {
    "jp-MarkdownHeadingCollapsed": true
   },
   "source": [
    "<a id=\"4b-clean-inspection-outcome\"></a>\n",
    "## 4. 4(b). Cleaning the “Inspection Outcome” Variable\n",
    "\n",
    "**Requirement**:  \n",
    "“Clean the 'Inspection Outcome' variable by merging categories with few observations into an 'Other' category without hard-coding.”\n",
    "\n",
    "**Objective**:  \n",
    "- We want to group rarethe infrequent inspection outcomes into a single 'Other' label for simpler analysis.\n",
    "- We'll avoid specifying each outcome by name; instead, we'll detect them automatically with a frequency threshold.\n",
    "\n",
    "**Approach**:\n",
    "1. Check the frequency distribution (`.value_counts()`) of `InspectionOutcome`.\n",
    "2. Define a threshold (e.g., < 100 occurrences) for grouping.\n",
    "3. Create a function that maps rare categories to 'Other'; the rest remain as-is.\n"
   ]
  },
  {
   "cell_type": "code",
   "execution_count": 23,
   "id": "83ce6853-3437-45f6-b89a-5530fe271723",
   "metadata": {},
   "outputs": [
    {
     "name": "stdout",
     "output_type": "stream",
     "text": [
      "Initial 'InspectionOutcome' distribution:\n"
     ]
    },
    {
     "data": {
      "text/plain": [
       "InspectionOutcome\n",
       "Follow up                53560\n",
       "Passed                   25589\n",
       "DC Follow up             22015\n",
       "All Orders Resolved      19355\n",
       "Complete                  7433\n",
       "Shutdown                  5581\n",
       "NaN                       3414\n",
       "Follow up Major           1112\n",
       "Follow up Sub Major        997\n",
       "Follow Up Initial          817\n",
       "Unable to Inspect          638\n",
       "Fail Initial               545\n",
       "Passed Major               534\n",
       "Incomplete                 349\n",
       "Follow up Sub              270\n",
       "Passed Sub                 199\n",
       "DC Follow up Intial        182\n",
       "MCP DC Follow up           181\n",
       "Fail Sub                   133\n",
       "Extend Time to Comply      117\n",
       "MCP Follow up              101\n",
       "Undergoing Major Alt        57\n",
       "Complete Enforcement        48\n",
       "Vol Shut Down               45\n",
       "DC Follow up Sub            43\n",
       "Not Required                37\n",
       "Cancelled                   10\n",
       "Dismantled                   7\n",
       "Inspection Complete          3\n",
       "Closed by Program            2\n",
       "RC Established               2\n",
       "Order Transferred            1\n",
       "Fail                         1\n",
       "Temp Lic Not Needed          1\n",
       "Received                     1\n",
       "Name: count, dtype: int64"
      ]
     },
     "metadata": {},
     "output_type": "display_data"
    },
    {
     "name": "stdout",
     "output_type": "stream",
     "text": [
      "\n",
      "Categories occurring fewer than 100 times: 14 will be merged into 'Other'.\n"
     ]
    }
   ],
   "source": [
    "# === 4(b) STEP 1: Check frequency distribution\n",
    "outcome_counts = merged_inspection_df['InspectionOutcome'].value_counts(dropna=False)\n",
    "print(\"Initial 'InspectionOutcome' distribution:\")\n",
    "display(outcome_counts)\n",
    "\n",
    "# Let's define a threshold for what's considered 'rare'.\n",
    "threshold = 100  # Example threshold\n",
    "\n",
    "rare_outcomes = outcome_counts[outcome_counts < threshold].index\n",
    "print(f\"\\nCategories occurring fewer than {threshold} times: {len(rare_outcomes)} will be merged into 'Other'.\")\n"
   ]
  },
  {
   "cell_type": "code",
   "execution_count": 24,
   "id": "e8c04244-7289-4d61-a301-e713ac360417",
   "metadata": {},
   "outputs": [
    {
     "name": "stdout",
     "output_type": "stream",
     "text": [
      "\n",
      "'InspectionOutcome_Cleaned' distribution after grouping rare categories:\n"
     ]
    },
    {
     "data": {
      "text/plain": [
       "InspectionOutcome_Cleaned\n",
       "Follow up                53560\n",
       "Passed                   25589\n",
       "DC Follow up             22015\n",
       "All Orders Resolved      19355\n",
       "Complete                  7433\n",
       "Shutdown                  5581\n",
       "NaN                       3414\n",
       "Follow up Major           1112\n",
       "Follow up Sub Major        997\n",
       "Follow Up Initial          817\n",
       "Unable to Inspect          638\n",
       "Fail Initial               545\n",
       "Passed Major               534\n",
       "Incomplete                 349\n",
       "Follow up Sub              270\n",
       "Other                      258\n",
       "Passed Sub                 199\n",
       "DC Follow up Intial        182\n",
       "MCP DC Follow up           181\n",
       "Fail Sub                   133\n",
       "Extend Time to Comply      117\n",
       "MCP Follow up              101\n",
       "Name: count, dtype: int64"
      ]
     },
     "metadata": {},
     "output_type": "display_data"
    }
   ],
   "source": [
    "# === 4(b) STEP 2: Define a function to map these rare outcomes\n",
    "def merge_rare_outcomes(x):\n",
    "    if x in rare_outcomes:\n",
    "        return 'Other'\n",
    "    else:\n",
    "        return x\n",
    "\n",
    "# Create a new column with cleaned outcomes\n",
    "merged_inspection_df['InspectionOutcome_Cleaned'] = merged_inspection_df['InspectionOutcome'].apply(merge_rare_outcomes)\n",
    "\n",
    "# Check distribution after cleaning\n",
    "cleaned_outcome_counts = merged_inspection_df['InspectionOutcome_Cleaned'].value_counts(dropna=False)\n",
    "print(\"\\n'InspectionOutcome_Cleaned' distribution after grouping rare categories:\")\n",
    "display(cleaned_outcome_counts)\n"
   ]
  },
  {
   "cell_type": "markdown",
   "id": "e0e881d1-19c1-42d3-978e-f8f62a306be1",
   "metadata": {},
   "source": [
    "**Discussion**:\n",
    "- We automatically detect any category below the chosen threshold of occurrences and lump them into “Other.” \n",
    "- This avoids explicit “hard‐coding” (naming categories manually). \n",
    "- We can adjust `threshold` based on data size or keep it dynamic (like the bottom 5% of categories).\n"
   ]
  },
  {
   "cell_type": "markdown",
   "id": "02e657f7-9ed5-43fc-bf50-48931e49eec4",
   "metadata": {
    "jp-MarkdownHeadingCollapsed": true
   },
   "source": [
    "<a id=\"4c-average-inspections\"></a>\n",
    "## 5. 4(c). Calculating Average Number of Inspections per Elevator\n",
    "\n",
    "**Requirement**:  \n",
    "“Calculate the average number of inspections per elevator.”\n",
    "\n",
    "**Objective**:\n",
    "- We want a simple metric: how many inspection rows, on average, does each elevator have?\n",
    "- We'll do a groupby on our elevator key, count the total inspections, then compute the mean.\n"
   ]
  },
  {
   "cell_type": "code",
   "execution_count": 25,
   "id": "cd8aa5e2-3c09-4a6d-914b-eea97d7f9ae0",
   "metadata": {},
   "outputs": [
    {
     "name": "stdout",
     "output_type": "stream",
     "text": [
      "Average number of inspections per elevator: 3.32\n"
     ]
    }
   ],
   "source": [
    "# === 4(c) STEP 1: Group by elevator key to count inspections\n",
    "inspection_counts = merged_inspection_df.groupby(key_col).size()\n",
    "\n",
    "# === 4(c) STEP 2: Calculate overall average\n",
    "avg_inspections = inspection_counts.mean()\n",
    "print(f\"Average number of inspections per elevator: {avg_inspections:.2f}\")\n"
   ]
  },
  {
   "cell_type": "markdown",
   "id": "7495b9f4-f7df-405e-95fb-a46c98ab9809",
   "metadata": {},
   "source": [
    "**Notes**:\n",
    "- This approach counts **every** row in `merged_inspection_df`. If we did a left join, some elevators with zero inspections might still appear once if they have no matches in `inspection_df`, but only if the merge automatically created a row. \n",
    "- If we want to exclude those with truly no inspections (e.g., if `InspectionNumber` is NaN), we could filter first. This depends on whether we define \"average per elevator among all known\" or \"average among only those that actually got inspected.\"\n"
   ]
  },
  {
   "cell_type": "markdown",
   "id": "6354592b-27eb-4162-8505-1f228ea16161",
   "metadata": {
    "jp-MarkdownHeadingCollapsed": true
   },
   "source": [
    "<a id=\"conclusion\"></a>\n",
    "## 6. Conclusion\n",
    "\n",
    "In **Part 4** of our Elevator Data ETL project, we:\n",
    "\n",
    "1. **Merged** our License+Installed dataset with `inspection.csv` using a **left** join, ensuring all elevators remain while acknowledging a one-to-many relationship between elevators and inspections.\n",
    "2. **Cleaned** the “Inspection Outcome” field by automatically grouping infrequent categories into “Other,” avoiding hard-coding specific outcomes.\n",
    "3. **Calculated** the average number of inspections per elevator, providing a high-level metric that helps us understand typical inspection frequency.\n",
    "\n",
    "**Next Steps**:\n",
    "- Further refine “InspectionOutcome_Cleaned” thresholds or groupings if needed. \n",
    "- Investigate potential correlations between inspection frequency and elevator status, location, or maintenance patterns. \n",
    "- Integrate cost/time data if available to see how repeated inspections or certain outcomes affect overall operations.\n",
    "\n",
    "By including inspection data, we have a more complete view of each elevator’s lifecycle, from installation to inspections, building toward comprehensive insights into safety, maintenance efficiency, and operational trends.\n"
   ]
  },
  {
   "cell_type": "markdown",
   "id": "f14cfe1e-cc08-47a2-aa0d-51d4611790e1",
   "metadata": {},
   "source": [
    "## Additional Insights: Distribution of Inspection Counts\n",
    "\n",
    "Although we already calculated the average number of inspections (Section 4c), it can be helpful to visualize the **range** (min, max) and the **distribution** of how many inspections per elevator exist. This helps highlight outliers, the most common counts, and whether there's a long tail of highly inspected elevators.\n"
   ]
  },
  {
   "cell_type": "code",
   "execution_count": 33,
   "id": "fd5b92b6-741f-4ec3-8a32-63acd9cc563d",
   "metadata": {},
   "outputs": [
    {
     "name": "stdout",
     "output_type": "stream",
     "text": [
      "Minimum number of inspections for any elevator: 1\n",
      "Maximum number of inspections for any elevator: 24\n"
     ]
    },
    {
     "data": {
      "image/png": "[encoded data removed]",
      "text/plain": [
       "<Figure size 800x400 with 1 Axes>"
      ]
     },
     "metadata": {},
     "output_type": "display_data"
    },
    {
     "name": "stdout",
     "output_type": "stream",
     "text": [
      "\n",
      "Elevators with 0 inspections: 0\n",
      "Elevators with exactly 1 inspection: 10492\n"
     ]
    }
   ],
   "source": [
    "\n",
    "# Basic Stats\n",
    "min_inspections = inspection_counts.min()\n",
    "max_inspections = inspection_counts.max()\n",
    "print(f\"Minimum number of inspections for any elevator: {min_inspections}\")\n",
    "print(f\"Maximum number of inspections for any elevator: {max_inspections}\")\n",
    "\n",
    "# Plotting a histogram\n",
    "plt.figure(figsize=(8, 4))\n",
    "sns.histplot(inspection_counts, bins=30, kde=True)\n",
    "plt.title(\"Distribution of Number of Inspections per Elevator\")\n",
    "plt.xlabel(\"Number of Inspections\")\n",
    "plt.ylabel(\"Count of Elevators\")\n",
    "plt.tight_layout()\n",
    "plt.show()\n",
    "\n",
    "# Another optional insight: how many elevators have 0 or 1 inspection\n",
    "zero_inspections = (inspection_counts == 0).sum()  # If there's a possibility of 0\n",
    "one_inspection  = (inspection_counts == 1).sum()\n",
    "print(f\"\\nElevators with 0 inspections: {zero_inspections}\")\n",
    "print(f\"Elevators with exactly 1 inspection: {one_inspection}\")\n"
   ]
  },
  {
   "cell_type": "markdown",
   "id": "fe24d7e9-c787-49c5-9341-f1ca2d9d1474",
   "metadata": {},
   "source": [
    "\n",
    "\n",
    "**Interpretation of Inspection Distribution**\n",
    "\n",
    "> From the histogram and descriptive counts, we see a **large concentration** of elevators with only **one to four** inspection visits. Specifically:\n",
    "> - ~10,000 elevators show exactly **1** inspection record,  \n",
    "> - ~8,500 have **2** inspections,  \n",
    "> - ~7,500 have **3**, and  \n",
    "> - ~6,000 have **4**.  \n",
    "\n",
    "> Beyond that, the number of elevators drops steadily:\n",
    "> - ~4,000 have 5–6 inspections,  \n",
    "> - ~2,500 have 6–7,  \n",
    "> - ~1,800 have about 7, etc.  \n",
    "> - Only a small tail extends above 10 inspections.\n",
    "\n",
    "In other words, **most** elevators fall in the 1–4 range of inspections. This could imply several possibilities:\n",
    "\n",
    "1. **Many relatively new or rarely inspected** elevators (if the dataset spans a short time window),  \n",
    "2. **Data coverage** might be partial (not all historical inspections present), or  \n",
    "3. **Typical** building codes that require periodic inspections only once or twice per year, with older or intensively used elevators having more frequent visits.\n",
    "\n",
    "This kind of distribution often arises in scenarios where the majority of items (in this case, elevators) follow a standard, regulated pattern (1–2 scheduled inspections a year), while a smaller subset (with heavier usage or more compliance issues) accumulates higher inspection counts. Overall, the histogram confirms the skewed nature of inspection frequency, emphasizing that **most elevators** cluster around **low** inspection counts, with only a few reaching **10+**.\n",
    "\n",
    "---\n",
    "\n",
    "This textual **interpretation** helps stakeholders see at-a-glance what the pattern means and can open discussions about potential outliers (those with extremely high counts), or whether the data misses older historical inspections for some elevators."
   ]
  }
 ],
 "metadata": {
  "kernelspec": {
   "display_name": "Python 3 (etl_project)",
   "language": "python",
   "name": "etl_project"
  },
  "language_info": {
   "codemirror_mode": {
    "name": "ipython",
    "version": 3
   },
   "file_extension": ".py",
   "mimetype": "text/x-python",
   "name": "python",
   "nbconvert_exporter": "python",
   "pygments_lexer": "ipython3",
   "version": "3.10.16"
  }
 },
 "nbformat": 4,
 "nbformat_minor": 5
}
